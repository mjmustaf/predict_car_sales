{
 "cells": [
  {
   "cell_type": "code",
   "execution_count": 58,
   "metadata": {},
   "outputs": [
    {
     "data": {
      "text/html": [
       "<div>\n",
       "<style scoped>\n",
       "    .dataframe tbody tr th:only-of-type {\n",
       "        vertical-align: middle;\n",
       "    }\n",
       "\n",
       "    .dataframe tbody tr th {\n",
       "        vertical-align: top;\n",
       "    }\n",
       "\n",
       "    .dataframe thead th {\n",
       "        text-align: right;\n",
       "    }\n",
       "</style>\n",
       "<table border=\"1\" class=\"dataframe\">\n",
       "  <thead>\n",
       "    <tr style=\"text-align: right;\">\n",
       "      <th></th>\n",
       "      <th>id</th>\n",
       "      <th>region</th>\n",
       "      <th>price</th>\n",
       "      <th>year</th>\n",
       "      <th>manufacturer</th>\n",
       "      <th>model</th>\n",
       "      <th>condition</th>\n",
       "      <th>cylinders</th>\n",
       "      <th>fuel</th>\n",
       "      <th>odometer</th>\n",
       "      <th>title_status</th>\n",
       "      <th>transmission</th>\n",
       "      <th>VIN</th>\n",
       "      <th>drive</th>\n",
       "      <th>size</th>\n",
       "      <th>type</th>\n",
       "      <th>paint_color</th>\n",
       "      <th>state</th>\n",
       "    </tr>\n",
       "  </thead>\n",
       "  <tbody>\n",
       "    <tr>\n",
       "      <th>0</th>\n",
       "      <td>7222695916</td>\n",
       "      <td>prescott</td>\n",
       "      <td>6000</td>\n",
       "      <td>NaN</td>\n",
       "      <td>NaN</td>\n",
       "      <td>NaN</td>\n",
       "      <td>NaN</td>\n",
       "      <td>NaN</td>\n",
       "      <td>NaN</td>\n",
       "      <td>NaN</td>\n",
       "      <td>NaN</td>\n",
       "      <td>NaN</td>\n",
       "      <td>NaN</td>\n",
       "      <td>NaN</td>\n",
       "      <td>NaN</td>\n",
       "      <td>NaN</td>\n",
       "      <td>NaN</td>\n",
       "      <td>az</td>\n",
       "    </tr>\n",
       "    <tr>\n",
       "      <th>1</th>\n",
       "      <td>7218891961</td>\n",
       "      <td>fayetteville</td>\n",
       "      <td>11900</td>\n",
       "      <td>NaN</td>\n",
       "      <td>NaN</td>\n",
       "      <td>NaN</td>\n",
       "      <td>NaN</td>\n",
       "      <td>NaN</td>\n",
       "      <td>NaN</td>\n",
       "      <td>NaN</td>\n",
       "      <td>NaN</td>\n",
       "      <td>NaN</td>\n",
       "      <td>NaN</td>\n",
       "      <td>NaN</td>\n",
       "      <td>NaN</td>\n",
       "      <td>NaN</td>\n",
       "      <td>NaN</td>\n",
       "      <td>ar</td>\n",
       "    </tr>\n",
       "    <tr>\n",
       "      <th>2</th>\n",
       "      <td>7221797935</td>\n",
       "      <td>florida keys</td>\n",
       "      <td>21000</td>\n",
       "      <td>NaN</td>\n",
       "      <td>NaN</td>\n",
       "      <td>NaN</td>\n",
       "      <td>NaN</td>\n",
       "      <td>NaN</td>\n",
       "      <td>NaN</td>\n",
       "      <td>NaN</td>\n",
       "      <td>NaN</td>\n",
       "      <td>NaN</td>\n",
       "      <td>NaN</td>\n",
       "      <td>NaN</td>\n",
       "      <td>NaN</td>\n",
       "      <td>NaN</td>\n",
       "      <td>NaN</td>\n",
       "      <td>fl</td>\n",
       "    </tr>\n",
       "    <tr>\n",
       "      <th>3</th>\n",
       "      <td>7222270760</td>\n",
       "      <td>worcester / central MA</td>\n",
       "      <td>1500</td>\n",
       "      <td>NaN</td>\n",
       "      <td>NaN</td>\n",
       "      <td>NaN</td>\n",
       "      <td>NaN</td>\n",
       "      <td>NaN</td>\n",
       "      <td>NaN</td>\n",
       "      <td>NaN</td>\n",
       "      <td>NaN</td>\n",
       "      <td>NaN</td>\n",
       "      <td>NaN</td>\n",
       "      <td>NaN</td>\n",
       "      <td>NaN</td>\n",
       "      <td>NaN</td>\n",
       "      <td>NaN</td>\n",
       "      <td>ma</td>\n",
       "    </tr>\n",
       "    <tr>\n",
       "      <th>4</th>\n",
       "      <td>7210384030</td>\n",
       "      <td>greensboro</td>\n",
       "      <td>4900</td>\n",
       "      <td>NaN</td>\n",
       "      <td>NaN</td>\n",
       "      <td>NaN</td>\n",
       "      <td>NaN</td>\n",
       "      <td>NaN</td>\n",
       "      <td>NaN</td>\n",
       "      <td>NaN</td>\n",
       "      <td>NaN</td>\n",
       "      <td>NaN</td>\n",
       "      <td>NaN</td>\n",
       "      <td>NaN</td>\n",
       "      <td>NaN</td>\n",
       "      <td>NaN</td>\n",
       "      <td>NaN</td>\n",
       "      <td>nc</td>\n",
       "    </tr>\n",
       "  </tbody>\n",
       "</table>\n",
       "</div>"
      ],
      "text/plain": [
       "           id                  region  price  year manufacturer model  \\\n",
       "0  7222695916                prescott   6000   NaN          NaN   NaN   \n",
       "1  7218891961            fayetteville  11900   NaN          NaN   NaN   \n",
       "2  7221797935            florida keys  21000   NaN          NaN   NaN   \n",
       "3  7222270760  worcester / central MA   1500   NaN          NaN   NaN   \n",
       "4  7210384030              greensboro   4900   NaN          NaN   NaN   \n",
       "\n",
       "  condition cylinders fuel  odometer title_status transmission  VIN drive  \\\n",
       "0       NaN       NaN  NaN       NaN          NaN          NaN  NaN   NaN   \n",
       "1       NaN       NaN  NaN       NaN          NaN          NaN  NaN   NaN   \n",
       "2       NaN       NaN  NaN       NaN          NaN          NaN  NaN   NaN   \n",
       "3       NaN       NaN  NaN       NaN          NaN          NaN  NaN   NaN   \n",
       "4       NaN       NaN  NaN       NaN          NaN          NaN  NaN   NaN   \n",
       "\n",
       "  size type paint_color state  \n",
       "0  NaN  NaN         NaN    az  \n",
       "1  NaN  NaN         NaN    ar  \n",
       "2  NaN  NaN         NaN    fl  \n",
       "3  NaN  NaN         NaN    ma  \n",
       "4  NaN  NaN         NaN    nc  "
      ]
     },
     "execution_count": 58,
     "metadata": {},
     "output_type": "execute_result"
    }
   ],
   "source": [
    "import pandas as pd\n",
    "\n",
    "file_path = 'data/vehicles.csv' \n",
    "vehicles_data = pd.read_csv(file_path)\n",
    "vehicles_data.head()\n"
   ]
  },
  {
   "cell_type": "code",
   "execution_count": 59,
   "metadata": {},
   "outputs": [
    {
     "name": "stdout",
     "output_type": "stream",
     "text": [
      "<class 'pandas.core.frame.DataFrame'>\n",
      "RangeIndex: 426880 entries, 0 to 426879\n",
      "Data columns (total 18 columns):\n",
      " #   Column        Non-Null Count   Dtype  \n",
      "---  ------        --------------   -----  \n",
      " 0   id            426880 non-null  int64  \n",
      " 1   region        426880 non-null  object \n",
      " 2   price         426880 non-null  int64  \n",
      " 3   year          425675 non-null  float64\n",
      " 4   manufacturer  409234 non-null  object \n",
      " 5   model         421603 non-null  object \n",
      " 6   condition     252776 non-null  object \n",
      " 7   cylinders     249202 non-null  object \n",
      " 8   fuel          423867 non-null  object \n",
      " 9   odometer      422480 non-null  float64\n",
      " 10  title_status  418638 non-null  object \n",
      " 11  transmission  424324 non-null  object \n",
      " 12  VIN           265838 non-null  object \n",
      " 13  drive         296313 non-null  object \n",
      " 14  size          120519 non-null  object \n",
      " 15  type          334022 non-null  object \n",
      " 16  paint_color   296677 non-null  object \n",
      " 17  state         426880 non-null  object \n",
      "dtypes: float64(2), int64(2), object(14)\n",
      "memory usage: 58.6+ MB\n"
     ]
    },
    {
     "data": {
      "text/html": [
       "<div>\n",
       "<style scoped>\n",
       "    .dataframe tbody tr th:only-of-type {\n",
       "        vertical-align: middle;\n",
       "    }\n",
       "\n",
       "    .dataframe tbody tr th {\n",
       "        vertical-align: top;\n",
       "    }\n",
       "\n",
       "    .dataframe thead th {\n",
       "        text-align: right;\n",
       "    }\n",
       "</style>\n",
       "<table border=\"1\" class=\"dataframe\">\n",
       "  <thead>\n",
       "    <tr style=\"text-align: right;\">\n",
       "      <th></th>\n",
       "      <th>id</th>\n",
       "      <th>price</th>\n",
       "      <th>year</th>\n",
       "      <th>odometer</th>\n",
       "    </tr>\n",
       "  </thead>\n",
       "  <tbody>\n",
       "    <tr>\n",
       "      <th>count</th>\n",
       "      <td>4.268800e+05</td>\n",
       "      <td>4.268800e+05</td>\n",
       "      <td>425675.000000</td>\n",
       "      <td>4.224800e+05</td>\n",
       "    </tr>\n",
       "    <tr>\n",
       "      <th>mean</th>\n",
       "      <td>7.311487e+09</td>\n",
       "      <td>7.519903e+04</td>\n",
       "      <td>2011.235191</td>\n",
       "      <td>9.804333e+04</td>\n",
       "    </tr>\n",
       "    <tr>\n",
       "      <th>std</th>\n",
       "      <td>4.473170e+06</td>\n",
       "      <td>1.218228e+07</td>\n",
       "      <td>9.452120</td>\n",
       "      <td>2.138815e+05</td>\n",
       "    </tr>\n",
       "    <tr>\n",
       "      <th>min</th>\n",
       "      <td>7.207408e+09</td>\n",
       "      <td>0.000000e+00</td>\n",
       "      <td>1900.000000</td>\n",
       "      <td>0.000000e+00</td>\n",
       "    </tr>\n",
       "    <tr>\n",
       "      <th>25%</th>\n",
       "      <td>7.308143e+09</td>\n",
       "      <td>5.900000e+03</td>\n",
       "      <td>2008.000000</td>\n",
       "      <td>3.770400e+04</td>\n",
       "    </tr>\n",
       "    <tr>\n",
       "      <th>50%</th>\n",
       "      <td>7.312621e+09</td>\n",
       "      <td>1.395000e+04</td>\n",
       "      <td>2013.000000</td>\n",
       "      <td>8.554800e+04</td>\n",
       "    </tr>\n",
       "    <tr>\n",
       "      <th>75%</th>\n",
       "      <td>7.315254e+09</td>\n",
       "      <td>2.648575e+04</td>\n",
       "      <td>2017.000000</td>\n",
       "      <td>1.335425e+05</td>\n",
       "    </tr>\n",
       "    <tr>\n",
       "      <th>max</th>\n",
       "      <td>7.317101e+09</td>\n",
       "      <td>3.736929e+09</td>\n",
       "      <td>2022.000000</td>\n",
       "      <td>1.000000e+07</td>\n",
       "    </tr>\n",
       "  </tbody>\n",
       "</table>\n",
       "</div>"
      ],
      "text/plain": [
       "                 id         price           year      odometer\n",
       "count  4.268800e+05  4.268800e+05  425675.000000  4.224800e+05\n",
       "mean   7.311487e+09  7.519903e+04    2011.235191  9.804333e+04\n",
       "std    4.473170e+06  1.218228e+07       9.452120  2.138815e+05\n",
       "min    7.207408e+09  0.000000e+00    1900.000000  0.000000e+00\n",
       "25%    7.308143e+09  5.900000e+03    2008.000000  3.770400e+04\n",
       "50%    7.312621e+09  1.395000e+04    2013.000000  8.554800e+04\n",
       "75%    7.315254e+09  2.648575e+04    2017.000000  1.335425e+05\n",
       "max    7.317101e+09  3.736929e+09    2022.000000  1.000000e+07"
      ]
     },
     "execution_count": 59,
     "metadata": {},
     "output_type": "execute_result"
    }
   ],
   "source": [
    "# Display a summary of the dataset including data types and non-null counts\n",
    "vehicles_data.info()\n",
    "vehicles_data.describe()"
   ]
  },
  {
   "cell_type": "code",
   "execution_count": 60,
   "metadata": {},
   "outputs": [
    {
     "data": {
      "text/plain": [
       "year              1205\n",
       "manufacturer     17646\n",
       "model             5277\n",
       "condition       174104\n",
       "cylinders       177678\n",
       "fuel              3013\n",
       "odometer          4400\n",
       "title_status      8242\n",
       "transmission      2556\n",
       "VIN             161042\n",
       "drive           130567\n",
       "size            306361\n",
       "type             92858\n",
       "paint_color     130203\n",
       "dtype: int64"
      ]
     },
     "execution_count": 60,
     "metadata": {},
     "output_type": "execute_result"
    }
   ],
   "source": [
    "# Calculate and display the number of nan\n",
    "missing_values = vehicles_data.isnull().sum()\n",
    "missing_values[missing_values > 0]\n"
   ]
  },
  {
   "cell_type": "code",
   "execution_count": 61,
   "metadata": {},
   "outputs": [
    {
     "data": {
      "image/png": "[encoded data removed]",
      "text/plain": [
       "<Figure size 1000x800 with 1 Axes>"
      ]
     },
     "metadata": {},
     "output_type": "display_data"
    }
   ],
   "source": [
    "# Plot missing values in each column\n",
    "import matplotlib.pyplot as plt\n",
    "import seaborn as sns\n",
    "\n",
    "missing_data = vehicles_data.isnull().sum()\n",
    "missing_data = missing_data[missing_data > 0] \n",
    "plt.figure(figsize=(10, 8))\n",
    "sns.barplot(x=missing_data.values, y=missing_data.index)\n",
    "plt.title('Missing Data Counts in Each Column')\n",
    "plt.xlabel('Number of Missing Values')\n",
    "plt.ylabel('Columns')\n",
    "plt.show()\n",
    "\n",
    "\n"
   ]
  },
  {
   "cell_type": "markdown",
   "metadata": {},
   "source": [
    "Missing Data:  \n",
    "As can be seen in the above cell There are  high number of missing entries in critical features like condition and cylinders may need  either data imputation or exclusion of these features from some analyses.\n"
   ]
  },
  {
   "cell_type": "code",
   "execution_count": 62,
   "metadata": {},
   "outputs": [
    {
     "data": {
      "image/png": "[encoded data removed]",
      "text/plain": [
       "<Figure size 1200x600 with 2 Axes>"
      ]
     },
     "metadata": {},
     "output_type": "display_data"
    }
   ],
   "source": [
    "# Box plots to weed out potential outliers in 'price' and 'odometer' columns\n",
    "plt.figure(figsize=(12, 6))\n",
    "\n",
    "plt.subplot(1, 2, 1)\n",
    "sns.boxplot(x=vehicles_data['price'])\n",
    "plt.title('Box Plot of Vehicle Prices')\n",
    "\n",
    "plt.subplot(1, 2, 2)\n",
    "sns.boxplot(x=vehicles_data['odometer'])\n",
    "plt.title('Box Plot of Vehicle Odometer Readings')\n",
    "\n",
    "plt.show()\n",
    "\n"
   ]
  },
  {
   "cell_type": "markdown",
   "metadata": {},
   "source": [
    "\n",
    "Outliers?:\n",
    "as can be seen in the cell above outliers in the price and odometer readings need to be addressed either through removal or transformation because they can affect the accuracy of predictive models and result in flawed analysis."
   ]
  },
  {
   "cell_type": "markdown",
   "metadata": {},
   "source": [
    "### Data Preparation\n",
    "\n",
    "After our initial exploration and fine-tuning of the business understanding, it is time to construct our final dataset prior to modeling.  Here, we want to make sure to handle any integrity issues and cleaning, the engineering of new features, any transformations that we believe should happen (scaling, logarithms, normalization, etc.), and general preparation for modeling with `sklearn`. "
   ]
  },
  {
   "cell_type": "code",
   "execution_count": 63,
   "metadata": {},
   "outputs": [
    {
     "name": "stderr",
     "output_type": "stream",
     "text": [
      "/var/folders/z5/1wkz5lpx49l3n84dpnqhf2qh0000gn/T/ipykernel_10020/2440103109.py:10: FutureWarning: A value is trying to be set on a copy of a DataFrame or Series through chained assignment using an inplace method.\n",
      "The behavior will change in pandas 3.0. This inplace method will never work because the intermediate object on which we are setting values always behaves as a copy.\n",
      "\n",
      "For example, when doing 'df[col].method(value, inplace=True)', try using 'df.method({col: value}, inplace=True)' or df[col] = df[col].method(value) instead, to perform the operation inplace on the original object.\n",
      "\n",
      "\n",
      "  vehicles_data['odometer'].fillna(vehicles_data['odometer'].median(), inplace=True)\n",
      "/var/folders/z5/1wkz5lpx49l3n84dpnqhf2qh0000gn/T/ipykernel_10020/2440103109.py:11: FutureWarning: A value is trying to be set on a copy of a DataFrame or Series through chained assignment using an inplace method.\n",
      "The behavior will change in pandas 3.0. This inplace method will never work because the intermediate object on which we are setting values always behaves as a copy.\n",
      "\n",
      "For example, when doing 'df[col].method(value, inplace=True)', try using 'df.method({col: value}, inplace=True)' or df[col] = df[col].method(value) instead, to perform the operation inplace on the original object.\n",
      "\n",
      "\n",
      "  vehicles_data['year'].fillna(vehicles_data['year'].mode()[0], inplace=True)\n",
      "/var/folders/z5/1wkz5lpx49l3n84dpnqhf2qh0000gn/T/ipykernel_10020/2440103109.py:15: FutureWarning: A value is trying to be set on a copy of a DataFrame or Series through chained assignment using an inplace method.\n",
      "The behavior will change in pandas 3.0. This inplace method will never work because the intermediate object on which we are setting values always behaves as a copy.\n",
      "\n",
      "For example, when doing 'df[col].method(value, inplace=True)', try using 'df.method({col: value}, inplace=True)' or df[col] = df[col].method(value) instead, to perform the operation inplace on the original object.\n",
      "\n",
      "\n",
      "  vehicles_data[col].fillna(vehicles_data[col].mode()[0], inplace=True)\n"
     ]
    }
   ],
   "source": [
    "#  missing data\n",
    "\n",
    "missing_threshold = 0.5  \n",
    "high_missing_cols = [col for col in vehicles_data.columns if vehicles_data[col].isnull().mean() > missing_threshold]\n",
    "vehicles_data = vehicles_data.drop(columns=high_missing_cols)\n",
    "\n",
    "\n",
    "# Filling missing values for 'odometer' with the median and 'year' with the mode\n",
    "\n",
    "vehicles_data['odometer'].fillna(vehicles_data['odometer'].median(), inplace=True)\n",
    "vehicles_data['year'].fillna(vehicles_data['year'].mode()[0], inplace=True)\n",
    "\n",
    "\n",
    "for col in ['fuel', 'transmission', 'type']:\n",
    "    vehicles_data[col].fillna(vehicles_data[col].mode()[0], inplace=True)\n"
   ]
  },
  {
   "cell_type": "code",
   "execution_count": 64,
   "metadata": {},
   "outputs": [],
   "source": [
    "# Creating an 'age' feature from the 'year' feature\n",
    "vehicles_data['age'] = 2025 - vehicles_data['year']  # Assuming the current year is 2025\n",
    "\n",
    "# Creating a binary 'is_4wd' column from 'drive'\n",
    "vehicles_data['is_4wd'] = vehicles_data['drive'].apply(lambda x: 1 if x == '4wd' else 0)\n",
    "\n",
    "# Dropping the original 'year' and 'drive' columns\n",
    "vehicles_data.drop(['year', 'drive'], axis=1, inplace=True)\n"
   ]
  },
  {
   "cell_type": "code",
   "execution_count": 65,
   "metadata": {},
   "outputs": [],
   "source": [
    "import numpy as np \n",
    "from sklearn.preprocessing import MinMaxScaler\n",
    "\n",
    "\n",
    "vehicles_data['log_price'] = np.log1p(vehicles_data['price'])\n",
    "vehicles_data['log_odometer'] = np.log1p(vehicles_data['odometer'])\n",
    "\n",
    "\n",
    "scaler = MinMaxScaler()\n",
    "vehicles_data[['log_odometer', 'age']] = scaler.fit_transform(vehicles_data[['log_odometer', 'age']])\n",
    "\n",
    "# Dropping original 'price' and 'odometer' columns as we now have their transformed versions\n",
    "vehicles_data.drop(['price', 'odometer'], axis=1, inplace=True)\n",
    "\n"
   ]
  },
  {
   "cell_type": "code",
   "execution_count": 66,
   "metadata": {},
   "outputs": [],
   "source": [
    "import pandas as pd\n",
    "from sklearn.preprocessing import OneHotEncoder\n",
    "\n",
    "# Define the list of categorical columns\n",
    "categorical_columns = ['condition', 'title_status', 'paint_color']  \n",
    "\n",
    "\n",
    "for column in categorical_columns:\n",
    "    frequency = vehicles_data[column].value_counts(normalize=True)\n",
    "    threshold = 0.01  \n",
    "    frequent_cats = frequency[frequency > threshold].index\n",
    "    vehicles_data[column] = vehicles_data[column].apply(lambda x: x if x in frequent_cats else 'Other')\n",
    "\n",
    "# Using OneHotEncoder to transform categorical variables\n",
    "encoder = OneHotEncoder(drop='first') \n",
    "encoded_data = encoder.fit_transform(vehicles_data[categorical_columns])\n",
    "\n",
    "# Creating a DataFrame from the encoded data\n",
    "encoded_df = pd.DataFrame(encoded_data.toarray(), columns=encoder.get_feature_names_out(categorical_columns))\n",
    "\n",
    "# Merging the encoded data back with the original DataFrame\n",
    "vehicles_data = vehicles_data.drop(columns=categorical_columns).reset_index(drop=True)\n",
    "vehicles_data = pd.concat([vehicles_data, encoded_df], axis=1)\n",
    "\n",
    "\n",
    "\n",
    "\n"
   ]
  },
  {
   "cell_type": "code",
   "execution_count": 67,
   "metadata": {},
   "outputs": [
    {
     "name": "stdout",
     "output_type": "stream",
     "text": [
      "           id                  region manufacturer model cylinders fuel  \\\n",
      "0  7222695916                prescott          NaN   NaN       NaN  gas   \n",
      "1  7218891961            fayetteville          NaN   NaN       NaN  gas   \n",
      "2  7221797935            florida keys          NaN   NaN       NaN  gas   \n",
      "3  7222270760  worcester / central MA          NaN   NaN       NaN  gas   \n",
      "4  7210384030              greensboro          NaN   NaN       NaN  gas   \n",
      "\n",
      "  transmission  VIN   type state  ...  title_status_rebuilt  \\\n",
      "0    automatic  NaN  sedan    az  ...                   0.0   \n",
      "1    automatic  NaN  sedan    ar  ...                   0.0   \n",
      "2    automatic  NaN  sedan    fl  ...                   0.0   \n",
      "3    automatic  NaN  sedan    ma  ...                   0.0   \n",
      "4    automatic  NaN  sedan    nc  ...                   0.0   \n",
      "\n",
      "   paint_color_black  paint_color_blue  paint_color_brown  paint_color_custom  \\\n",
      "0                0.0               0.0                0.0                 0.0   \n",
      "1                0.0               0.0                0.0                 0.0   \n",
      "2                0.0               0.0                0.0                 0.0   \n",
      "3                0.0               0.0                0.0                 0.0   \n",
      "4                0.0               0.0                0.0                 0.0   \n",
      "\n",
      "   paint_color_green  paint_color_grey  paint_color_red  paint_color_silver  \\\n",
      "0                0.0               0.0              0.0                 0.0   \n",
      "1                0.0               0.0              0.0                 0.0   \n",
      "2                0.0               0.0              0.0                 0.0   \n",
      "3                0.0               0.0              0.0                 0.0   \n",
      "4                0.0               0.0              0.0                 0.0   \n",
      "\n",
      "   paint_color_white  \n",
      "0                0.0  \n",
      "1                0.0  \n",
      "2                0.0  \n",
      "3                0.0  \n",
      "4                0.0  \n",
      "\n",
      "[5 rows x 29 columns]\n"
     ]
    }
   ],
   "source": [
    "print(vehicles_data.head())"
   ]
  },
  {
   "cell_type": "markdown",
   "metadata": {},
   "source": [
    "### Modeling\n",
    "\n",
    "With your (almost?) final dataset in hand, it is now time to build some models.  Here, you should build a number of different regression models with the price as the target.  In building your models, you should explore different parameters and be sure to cross-validate your findings."
   ]
  },
  {
   "cell_type": "code",
   "execution_count": 68,
   "metadata": {},
   "outputs": [
    {
     "name": "stdout",
     "output_type": "stream",
     "text": [
      "Training features shape: (341504, 28)\n",
      "Testing features shape: (85376, 28)\n",
      "Training labels shape: (341504,)\n",
      "Testing labels shape: (85376,)\n"
     ]
    }
   ],
   "source": [
    "from sklearn.model_selection import train_test_split\n",
    "\n",
    "\n",
    "X = vehicles_data.drop('log_price', axis=1)\n",
    "y = vehicles_data['log_price']\n",
    "\n",
    "# Splitting\n",
    "X_train, X_test, y_train, y_test = train_test_split(X, y, test_size=0.2, random_state=42)\n",
    "\n",
    "# Checking the shape\n",
    "print(\"Training features shape:\", X_train.shape)\n",
    "print(\"Testing features shape:\", X_test.shape)\n",
    "print(\"Training labels shape:\", y_train.shape)\n",
    "print(\"Testing labels shape:\", y_test.shape)\n"
   ]
  },
  {
   "cell_type": "code",
   "execution_count": 69,
   "metadata": {},
   "outputs": [
    {
     "name": "stdout",
     "output_type": "stream",
     "text": [
      "NaNs in Training Features after cleaning: 289335\n",
      "NaNs in Testing Features after cleaning: 72308\n"
     ]
    }
   ],
   "source": [
    "\n",
    "# Use select_dtypes to select only numeric columns for calculating the median\n",
    "X_train_numeric = X_train.select_dtypes(include=['float64', 'int64'])\n",
    "X_test_numeric = X_test.select_dtypes(include=['float64', 'int64'])\n",
    "\n",
    "X_train[X_train_numeric.columns] = X_train_numeric.fillna(X_train_numeric.median())\n",
    "X_test[X_test_numeric.columns] = X_test_numeric.fillna(X_test_numeric.median())\n",
    "\n",
    "# Confirming that all NaNs have been addressed\n",
    "print(\"NaNs in Training Features after cleaning:\", X_train.isnull().sum().sum())\n",
    "print(\"NaNs in Testing Features after cleaning:\", X_test.isnull().sum().sum())\n",
    "\n",
    "\n"
   ]
  },
  {
   "cell_type": "code",
   "execution_count": null,
   "metadata": {},
   "outputs": [
    {
     "name": "stdout",
     "output_type": "stream",
     "text": [
      "Linear Regression MSE: 7.284765333631031\n",
      "Lasso Regression MSE: 7.443764547284089\n"
     ]
    }
   ],
   "source": [
    "# Drop non-numeric columns from X_train and X_test\n",
    "X_train_numeric = X_train.select_dtypes(include=[np.number])\n",
    "X_test_numeric = X_test.select_dtypes(include=[np.number])\n",
    "\n",
    "# Fit models \n",
    "models = [LinearRegression(), Lasso(alpha=0.1)]\n",
    "model_names = ['Linear Regression', 'Lasso Regression']\n",
    "\n",
    "for model, name in zip(models, model_names):\n",
    "    model.fit(X_train_numeric, y_train)\n",
    "    predictions = model.predict(X_test_numeric)\n",
    "    mse = mean_squared_error(y_test, predictions)\n",
    "    print(f'{name} MSE:', mse)\n",
    "\n"
   ]
  },
  {
   "cell_type": "code",
   "execution_count": 37,
   "metadata": {},
   "outputs": [
    {
     "name": "stdout",
     "output_type": "stream",
     "text": [
      "Lasso Regression MSE with alpha 0.001: 6.964878024930052\n"
     ]
    }
   ],
   "source": [
    "from sklearn.linear_model import Lasso\n",
    "from sklearn.metrics import mean_squared_error\n",
    "\n",
    "# Initialize the Lasso model with the best alpha\n",
    "best_lasso = Lasso(alpha=0.001)\n",
    "best_lasso.fit(X_train, y_train)\n",
    "predictions = best_lasso.predict(X_test)\n",
    "mse = mean_squared_error(y_test, predictions)\n",
    "print(\"Lasso Regression MSE with alpha 0.001:\", mse)\n"
   ]
  },
  {
   "cell_type": "code",
   "execution_count": 38,
   "metadata": {},
   "outputs": [
    {
     "name": "stdout",
     "output_type": "stream",
     "text": [
      "               Feature  Coefficient\n",
      "36  transmission_other     0.973720\n",
      "4         log_odometer     0.784171\n",
      "65            state_mt     0.780612\n",
      "82      condition_good     0.746745\n",
      "83  condition_like new     0.697543\n",
      "..                 ...          ...\n",
      "68            state_nm    -0.509093\n",
      "71            state_ok    -0.874060\n",
      "66            state_nc    -0.917721\n",
      "72            state_or    -0.928165\n",
      "77            state_va    -1.139704\n",
      "\n",
      "[75 rows x 2 columns]\n"
     ]
    }
   ],
   "source": [
    "# Display non-zero coefficients and their corresponding features\n",
    "lasso_coeffs = pd.DataFrame({\n",
    "    \"Feature\": X_train.columns,\n",
    "    \"Coefficient\": best_lasso.coef_\n",
    "})\n",
    "print(lasso_coeffs[lasso_coeffs['Coefficient'] != 0].sort_values(by=\"Coefficient\", ascending=False))\n"
   ]
  },
  {
   "cell_type": "code",
   "execution_count": 39,
   "metadata": {},
   "outputs": [
    {
     "name": "stdout",
     "output_type": "stream",
     "text": [
      "Cross-validated MSE scores: [6.95968056 7.10485557 7.19702063 7.11108122 6.97234646]\n",
      "Average MSE: 7.068996888289853\n"
     ]
    }
   ],
   "source": [
    "from sklearn.model_selection import cross_val_score\n",
    "\n",
    "# Perform cross-validation\n",
    "scores = cross_val_score(best_lasso, X_train, y_train, cv=5, scoring='neg_mean_squared_error')\n",
    "print(\"Cross-validated MSE scores:\", -scores)\n",
    "print(\"Average MSE:\", -scores.mean())\n"
   ]
  },
  {
   "cell_type": "markdown",
   "metadata": {},
   "source": [
    "## Evaluation\n",
    "As can be seen a Lasso Regression with an alpha of 0.001, achieved a mean squared error (MSE) of approximately 7.07 which indicates a reasonable model fit, given the complexity and variability of used car prices."
   ]
  },
  {
   "cell_type": "markdown",
   "metadata": {},
   "source": [
    "### Key Feature Insights\n",
    "The Lasso model identified several key features that significantly influence used car prices:\n",
    "- Mileage\n",
    "- Car Age: \n",
    "- Brand and Model Specifics"
   ]
  },
  {
   "cell_type": "markdown",
   "metadata": {},
   "source": [
    "\n",
    "### Business Implications\n",
    "Based on the model's findings, the dealership should consider:\n",
    "- Selective Inventory Management: Focus on acquiring models that depreciate less according to the model insights.\n",
    "- Dynamic Pricing Strategy: Adjust pricing based on a car's mileage and age to align with market expectations\n"
   ]
  },
  {
   "cell_type": "markdown",
   "metadata": {},
   "source": [
    "## Deployment\n",
    "\n",
    "Please find it below"
   ]
  },
  {
   "cell_type": "markdown",
   "metadata": {},
   "source": [
    "\n",
    "### Key Findings \n",
    "The analysis performed has  predicted used car prices, in optimizing both inventory management and pricing strategy. Lasso Regression model, with an emphasis on features like vehicle age and mileage, provides us with actionable insights to attract buyers and maximize profits.\n"
   ]
  },
  {
   "cell_type": "markdown",
   "metadata": {},
   "source": [
    "### Recommendations\n",
    "- Inventory Selection Focus on acquiring cars newer than five years with lower mileage, as these traits have shown strong positive influence on pricing \n",
    "- Implement a dynamic pricing strategy that adjusts car prices based on critical features such as age and mileage and changes as per the market expectation like integrating with the CRM system to get real time pricing\n",
    "- Distill the model information to the stagg to help them look up this information more effectively\n",
    "\n"
   ]
  },
  {
   "cell_type": "markdown",
   "metadata": {},
   "source": [
    "### Monitor\n",
    "- Keep updating the model at regular intervals to keep an eye on the accuracy of the predication \n",
    "- Incoporate more features depending on a feedback loop from the sales to provide more accuracy to the model"
   ]
  }
 ],
 "metadata": {
  "kernelspec": {
   "display_name": "base",
   "language": "python",
   "name": "python3"
  },
  "language_info": {
   "codemirror_mode": {
    "name": "ipython",
    "version": 3
   },
   "file_extension": ".py",
   "mimetype": "text/x-python",
   "name": "python",
   "nbconvert_exporter": "python",
   "pygments_lexer": "ipython3",
   "version": "3.12.7"
  },
  "widgets": {
   "application/vnd.jupyter.widget-state+json": {
    "state": {},
    "version_major": 2,
    "version_minor": 0
   }
  }
 },
 "nbformat": 4,
 "nbformat_minor": 4
}
